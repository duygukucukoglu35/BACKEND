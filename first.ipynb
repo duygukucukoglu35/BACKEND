{
 "cells": [
  {
   "cell_type": "code",
   "execution_count": 8,
   "metadata": {},
   "outputs": [
    {
     "ename": "ValueError",
     "evalue": "invalid literal for int() with base 10: ''",
     "output_type": "error",
     "traceback": [
      "\u001b[1;31m---------------------------------------------------------------------------\u001b[0m",
      "\u001b[1;31mValueError\u001b[0m                                Traceback (most recent call last)",
      "Cell \u001b[1;32mIn[8], line 1\u001b[0m\n\u001b[1;32m----> 1\u001b[0m num1 \u001b[39m=\u001b[39m \u001b[39mint\u001b[39;49m(\u001b[39minput\u001b[39;49m(\u001b[39m\"\u001b[39;49m\u001b[39mPlease enter a number:\u001b[39;49m\u001b[39m\"\u001b[39;49m))\n\u001b[0;32m      2\u001b[0m num2 \u001b[39m=\u001b[39m \u001b[39mint\u001b[39m(\u001b[39minput\u001b[39m(\u001b[39m\"\u001b[39m\u001b[39mPlease enter a number:\u001b[39m\u001b[39m\"\u001b[39m))\n\u001b[0;32m      3\u001b[0m num3 \u001b[39m=\u001b[39m \u001b[39mint\u001b[39m(\u001b[39minput\u001b[39m(\u001b[39m\"\u001b[39m\u001b[39mPlease enter a number:\u001b[39m\u001b[39m\"\u001b[39m))\n",
      "\u001b[1;31mValueError\u001b[0m: invalid literal for int() with base 10: ''"
     ]
    }
   ],
   "source": [
    "num1 = int(input(\"Please enter a number:\"))\n",
    "num2 = int(input(\"Please enter a number:\"))\n",
    "num3 = int(input(\"Please enter a number:\"))\n",
    "if num1>num2 and num1>num3:\n",
    "    print(f\"{num1}is the biggest\")\n",
    "elif num2>num1 and num2>num3:\n",
    "    print(f\"{num2}is the biggest\") \n",
    "else:\n",
    "    print(f\"{num3}is the biggest\")      "
   ]
  },
  {
   "cell_type": "code",
   "execution_count": null,
   "metadata": {},
   "outputs": [
    {
     "name": "stdout",
     "output_type": "stream",
     "text": [
      "sayı sıfır\n"
     ]
    }
   ],
   "source": [
    "num = float(input(\"enter a number\"))\n",
    "if num>0:\n",
    "    print (\"pozitif sayı\")\n",
    "elif num==0:\n",
    "    print(\"sayı sıfır\")\n",
    "else:\n",
    "    print(\"netafif sayı\")"
   ]
  },
  {
   "cell_type": "code",
   "execution_count": 7,
   "metadata": {},
   "outputs": [
    {
     "name": "stdout",
     "output_type": "stream",
     "text": [
      "please enter correct data\n",
      "your age is5\n"
     ]
    }
   ],
   "source": [
    "age = input(\"enter ypur age:\")\n",
    "while not age.isnumeric():\n",
    "    print(\"please enter correct data\")\n",
    "    age = input(\"enter ypur age:\")\n",
    "    print(f\"your age is{age}\")\n",
    "    #hocaya sor\n"
   ]
  },
  {
   "cell_type": "code",
   "execution_count": 10,
   "metadata": {},
   "outputs": [
    {
     "name": "stdout",
     "output_type": "stream",
     "text": [
      "16\n"
     ]
    }
   ],
   "source": [
    "a = 'istanbul, ankara, muşşşşşşşşşşşşşş'\n",
    "word_list = a.split(', ')\n",
    "i=0\n",
    "longest=0\n",
    "while i <len(word_list):\n",
    "    if len(word_list[i])>longest:\n",
    "        longest=len(word_list[i])\n",
    "    i+=1\n",
    "print(longest)"
   ]
  },
  {
   "cell_type": "code",
   "execution_count": 13,
   "metadata": {},
   "outputs": [
    {
     "name": "stdout",
     "output_type": "stream",
     "text": [
      "1\n",
      "2\n",
      "3\n",
      "4\n",
      "5\n",
      "6\n",
      "7\n",
      "8\n"
     ]
    }
   ],
   "source": [
    "for i in[1, 2, 3, 4, 5, 6, 7, 8]:\n",
    "    print(i)"
   ]
  },
  {
   "cell_type": "code",
   "execution_count": 16,
   "metadata": {},
   "outputs": [
    {
     "name": "stdout",
     "output_type": "stream",
     "text": [
      "spring\n",
      "summer\n",
      "autumn\n",
      "winter\n"
     ]
    }
   ],
   "source": [
    "seasons =['spring','summer','autumn','winter']\n",
    "for season in seasons :\n",
    "    print(season)"
   ]
  },
  {
   "cell_type": "code",
   "execution_count": 22,
   "metadata": {},
   "outputs": [
    {
     "name": "stdout",
     "output_type": "stream",
     "text": [
      "Hello u\n",
      "Hello l\n",
      "Hello e\n"
     ]
    }
   ],
   "source": [
    "names = [\"duygu\", \"ali\",\"veli\"]\n",
    "for i in names:\n",
    "    print(\"Hello\", i[1])"
   ]
  },
  {
   "cell_type": "code",
   "execution_count": 23,
   "metadata": {},
   "outputs": [
    {
     "name": "stdout",
     "output_type": "stream",
     "text": [
      "Hello duygu\n",
      "Hello ali\n",
      "Hello veli\n"
     ]
    }
   ],
   "source": [
    "names = [\"duygu\", \"ali\",\"veli\"]\n",
    "for i in names:\n",
    "    print(\"Hello\", i)"
   ]
  },
  {
   "cell_type": "code",
   "execution_count": 24,
   "metadata": {},
   "outputs": [
    {
     "name": "stdout",
     "output_type": "stream",
     "text": [
      "1\n",
      "2\n",
      "3\n",
      "4\n",
      "5\n"
     ]
    }
   ],
   "source": [
    "number = [1, 2, 3, 4, 5]\n",
    "for i in number:\n",
    "    print( i)"
   ]
  },
  {
   "cell_type": "code",
   "execution_count": 33,
   "metadata": {},
   "outputs": [
    {
     "name": "stdout",
     "output_type": "stream",
     "text": [
      "d\n",
      "u\n",
      "y\n",
      "g\n",
      "u\n",
      "k\n",
      "u\n",
      "c\n",
      "u\n",
      "k\n",
      "o\n",
      "g\n",
      "l\n",
      "u\n"
     ]
    }
   ],
   "source": [
    "name= 'duygukucukoglu'\n",
    "for i in name:\n",
    "    print(i)"
   ]
  },
  {
   "cell_type": "code",
   "execution_count": 29,
   "metadata": {},
   "outputs": [
    {
     "name": "stdout",
     "output_type": "stream",
     "text": [
      "[1]\n",
      "[1, 2]\n",
      "[1, 2, 3]\n",
      "[1, 2, 3, 4]\n",
      "[1, 2, 3, 4, 5]\n"
     ]
    }
   ],
   "source": [
    "num_list=[]\n",
    "for i in range(1,6): #1den 5 e kadar olan sayıları yazdırır\n",
    "    num_list.append(i)\n",
    "    print(num_list)"
   ]
  },
  {
   "cell_type": "code",
   "execution_count": 30,
   "metadata": {},
   "outputs": [
    {
     "name": "stdout",
     "output_type": "stream",
     "text": [
      "[1, 2, 3, 4, 5]\n"
     ]
    }
   ],
   "source": [
    "num_list=[]\n",
    "for i in range(1,6): #1den 5 e kadar olan sayıları yazdırır\n",
    "    num_list.append(i)\n",
    "print(num_list)"
   ]
  },
  {
   "cell_type": "code",
   "execution_count": 26,
   "metadata": {},
   "outputs": [
    {
     "name": "stdout",
     "output_type": "stream",
     "text": [
      "[1]\n",
      "[1, 2]\n",
      "[1, 2, 3]\n",
      "[1, 2, 3, 4]\n",
      "[1, 2, 3, 4, 5]\n",
      "[1, 2, 3, 4, 5]\n"
     ]
    }
   ],
   "source": [
    "num_list=[]\n",
    "for i in range(1,6): #1den 5 e kadar olan sayıları yazdırır\n",
    "    num_list.append(i)\n",
    "    print(num_list)\n",
    "print(num_list)    "
   ]
  },
  {
   "cell_type": "code",
   "execution_count": 27,
   "metadata": {},
   "outputs": [
    {
     "name": "stdout",
     "output_type": "stream",
     "text": [
      "[3]\n",
      "[3, 4]\n",
      "[3, 4, 5]\n",
      "[3, 4, 5, 6]\n",
      "[3, 4, 5, 6, 7]\n",
      "[3, 4, 5, 6, 7, 8]\n",
      "[3, 4, 5, 6, 7, 8]\n"
     ]
    }
   ],
   "source": [
    "num_list=[]\n",
    "for i in range(3,9): #1den 5 e kadar olan sayıları yazdırır\n",
    "    num_list.append(i)\n",
    "    print(num_list)\n",
    "print(num_list)  "
   ]
  },
  {
   "cell_type": "code",
   "execution_count": 34,
   "metadata": {},
   "outputs": [
    {
     "name": "stdout",
     "output_type": "stream",
     "text": [
      "d-u-y-g-u-"
     ]
    }
   ],
   "source": [
    "input = 'duygu'\n",
    "for i in input:\n",
    "    print(i + '-', end ='') #hocaya sor"
   ]
  },
  {
   "cell_type": "code",
   "execution_count": 35,
   "metadata": {},
   "outputs": [
    {
     "name": "stdout",
     "output_type": "stream",
     "text": [
      "d\n",
      "d-u\n",
      "d-u-y\n",
      "d-u-y-g\n",
      "d-u-y-g-u\n"
     ]
    }
   ],
   "source": [
    "input = 'duygu'\n",
    "word = ''\n",
    "for i in range(len(input)):\n",
    "    if i ==0:\n",
    "        word += input[i]\n",
    "    else:\n",
    "        word += '-' + input[i]\n",
    "    print(word)        "
   ]
  },
  {
   "cell_type": "code",
   "execution_count": 36,
   "metadata": {},
   "outputs": [
    {
     "name": "stdout",
     "output_type": "stream",
     "text": [
      "d-u-y-g-u\n"
     ]
    }
   ],
   "source": [
    "string ='duygu'\n",
    "print(\"-\".join(string)) #basit çözüm"
   ]
  },
  {
   "cell_type": "code",
   "execution_count": 37,
   "metadata": {},
   "outputs": [
    {
     "name": "stdout",
     "output_type": "stream",
     "text": [
      "name\n",
      "surname\n",
      "age\n"
     ]
    }
   ],
   "source": [
    "user={\n",
    "    \"name\":\"duygu\",\n",
    "    \"surname\":\"kucukoglu\",\n",
    "    \"age\":29\n",
    "}\n",
    "for attribute in user: #user içinde tek değişken ile dolaşırsam sadece key'leri verir value vermez\n",
    "    print(attribute)"
   ]
  },
  {
   "cell_type": "code",
   "execution_count": 39,
   "metadata": {},
   "outputs": [
    {
     "name": "stdout",
     "output_type": "stream",
     "text": [
      "duygu kucukoglu 29 "
     ]
    }
   ],
   "source": [
    "user={\n",
    "    \"name\":\"duygu\",\n",
    "    \"surname\":\"kucukoglu\",\n",
    "    \"age\":29\n",
    "}\n",
    "for i in user.values(): \n",
    "    print(i, end=' ')"
   ]
  },
  {
   "cell_type": "code",
   "execution_count": 40,
   "metadata": {},
   "outputs": [
    {
     "name": "stdout",
     "output_type": "stream",
     "text": [
      "name : duygu\n",
      "surname : kucukoglu\n",
      "age : 29\n"
     ]
    }
   ],
   "source": [
    "user={\n",
    "    \"name\":\"duygu\",\n",
    "    \"surname\":\"kucukoglu\",\n",
    "    \"age\":29\n",
    "}\n",
    "for key, value in user.items(): \n",
    "    print(key, \":\", value)"
   ]
  },
  {
   "cell_type": "code",
   "execution_count": 41,
   "metadata": {},
   "outputs": [
    {
     "name": "stdout",
     "output_type": "stream",
     "text": [
      "5 x 0 = 0\n",
      "5 x 1 = 5\n",
      "5 x 2 = 10\n",
      "5 x 3 = 15\n",
      "5 x 4 = 20\n",
      "5 x 5 = 25\n",
      "5 x 6 = 30\n",
      "5 x 7 = 35\n",
      "5 x 8 = 40\n",
      "5 x 9 = 45\n",
      "5 x 10 = 50\n"
     ]
    }
   ],
   "source": [
    "input = 5\n",
    "\n",
    "for i in range(11):\n",
    "    print(f'{input} x {i} = {input * i}') #hocaya sor"
   ]
  },
  {
   "cell_type": "code",
   "execution_count": 43,
   "metadata": {},
   "outputs": [
    {
     "name": "stdout",
     "output_type": "stream",
     "text": [
      "[0, 1, 2, 3, 4, 5, 6, 7, 8, 9, 10]\n"
     ]
    }
   ],
   "source": [
    "#tuple\n",
    "b=list(range(11))\n",
    "print(b)"
   ]
  },
  {
   "cell_type": "code",
   "execution_count": 1,
   "metadata": {},
   "outputs": [
    {
     "name": "stdout",
     "output_type": "stream",
     "text": [
      "{0, 1, 2, 3, 4, 5, 6, 7, 8, 9}\n"
     ]
    }
   ],
   "source": [
    "a = set(range(0,10))\n",
    "print(a)"
   ]
  },
  {
   "cell_type": "code",
   "execution_count": 2,
   "metadata": {},
   "outputs": [
    {
     "name": "stdout",
     "output_type": "stream",
     "text": [
      "(0, 1, 2, 3, 4, 5, 6, 7, 8, 9, 10)\n"
     ]
    }
   ],
   "source": [
    "c=tuple(range(11))\n",
    "print(c)\n"
   ]
  },
  {
   "cell_type": "code",
   "execution_count": 3,
   "metadata": {},
   "outputs": [
    {
     "name": "stdout",
     "output_type": "stream",
     "text": [
      "[5, 10, 15, 20, 25]\n"
     ]
    }
   ],
   "source": [
    "c=list(range(5,26,5))\n",
    "print(c)"
   ]
  },
  {
   "cell_type": "code",
   "execution_count": 4,
   "metadata": {},
   "outputs": [
    {
     "name": "stdout",
     "output_type": "stream",
     "text": [
      "[10, 8, 6, 4, 2]\n"
     ]
    }
   ],
   "source": [
    "c=list(range(10,0,-2))\n",
    "print(c)"
   ]
  },
  {
   "cell_type": "code",
   "execution_count": 5,
   "metadata": {},
   "outputs": [
    {
     "name": "stdout",
     "output_type": "stream",
     "text": [
      " [1, 2, 3, 4, 5]\n",
      "  [2, 3, 4, 5]\n",
      "   [3, 4, 5]\n",
      "    [4, 5]\n",
      "     [5]\n",
      "    [4, 5]\n",
      "   [3, 4, 5]\n",
      "  [2, 3, 4, 5]\n",
      " [1, 2, 3, 4, 5]\n"
     ]
    }
   ],
   "source": [
    "number = input(\"Enter number of lines: \")\n",
    "line = int(number)\n",
    "for i in range(line):\n",
    "    print(\" \" * i, list(range(i + 1, line + 1)))\n",
    "\n",
    "for i in list(range(1, line))[::-1]:\n",
    "    print(\" \" * (i - 1), list(range(i, line + 1)))"
   ]
  },
  {
   "cell_type": "code",
   "execution_count": 6,
   "metadata": {},
   "outputs": [
    {
     "name": "stdout",
     "output_type": "stream",
     "text": [
      "*************\n",
      "   1234321\n",
      "  *********\n",
      "    23432\n",
      "    *****\n",
      "     343\n",
      "      *\n",
      "      4\n"
     ]
    }
   ],
   "source": [
    "star_count = 13\n",
    "\n",
    "line_width = star_count\n",
    "\n",
    "digit_start = 1\n",
    "digit_end = int((star_count - 4) / 2)\n",
    "star = True\n",
    "\n",
    "while star_count > 0:\n",
    "    if star:\n",
    "        star_line = \"*\" * star_count\n",
    "        star_line = (\" \" * int(((line_width - len(star_line)) / 2))) + star_line\n",
    "        print(star_line)\n",
    "        star_count -= 4\n",
    "    else:\n",
    "        digit_line = \"\"\n",
    "        for i in range(digit_start, digit_end + 1):\n",
    "            digit_line += str(i)\n",
    "        for i in range(digit_end - 1, digit_start - 1, -1):\n",
    "            digit_line += str(i)\n",
    "        digit_line = (\" \" * int(((line_width - len(digit_line)) / 2))) + digit_line\n",
    "        print(digit_line)\n",
    "        digit_start += 1\n",
    "    star = not star\n",
    "\n",
    "print((\" \" * int(((line_width - 1) / 2))) + str(digit_end))"
   ]
  },
  {
   "cell_type": "code",
   "execution_count": 7,
   "metadata": {},
   "outputs": [
    {
     "name": "stdout",
     "output_type": "stream",
     "text": [
      "{1: 'bir', 2: 'iki', 3: 'üç'}\n"
     ]
    }
   ],
   "source": [
    "a = ['bir', 'iki', 'üç']\n",
    "b = [1, 2, 3]\n",
    "c = dict(zip(b, a))\n",
    "print(c)"
   ]
  },
  {
   "cell_type": "code",
   "execution_count": 8,
   "metadata": {},
   "outputs": [],
   "source": [
    "evens:[0, 2, 4, 6, 8]\n",
    "odds:[1, 3, 5, 7, 9]\n",
    "evens = [i for i in range(12) if i % 2 == 0]\n",
    "print(evens)\n",
    "print(odds)"
   ]
  }
 ],
 "metadata": {
  "kernelspec": {
   "display_name": "Python 3",
   "language": "python",
   "name": "python3"
  },
  "language_info": {
   "codemirror_mode": {
    "name": "ipython",
    "version": 3
   },
   "file_extension": ".py",
   "mimetype": "text/x-python",
   "name": "python",
   "nbconvert_exporter": "python",
   "pygments_lexer": "ipython3",
   "version": "3.11.0"
  },
  "orig_nbformat": 4,
  "vscode": {
   "interpreter": {
    "hash": "6bb0eb8d29a3b1f7f8bf4e18ccd882616e57211f84ecbded1e20580bc1388369"
   }
  }
 },
 "nbformat": 4,
 "nbformat_minor": 2
}
