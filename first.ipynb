{
 "cells": [
  {
   "cell_type": "code",
   "execution_count": 2,
   "metadata": {},
   "outputs": [
    {
     "name": "stdout",
     "output_type": "stream",
     "text": [
      "15is the biggest\n"
     ]
    }
   ],
   "source": [
    "num1 = int(input(\"Please enter a number:\"))\n",
    "num2 = int(input(\"Please enter a number:\"))\n",
    "num3 = int(input(\"Please enter a number:\"))\n",
    "if num1>num2 and num1>num3:\n",
    "    print(f\"{num1}is the biggest\")\n",
    "elif num2>num1 and num2>num3:\n",
    "    print(f\"{num2}is the biggest\") \n",
    "else:\n",
    "    print(f\"{num3}is the biggest\")      "
   ]
  },
  {
   "cell_type": "code",
   "execution_count": 4,
   "metadata": {},
   "outputs": [
    {
     "name": "stdout",
     "output_type": "stream",
     "text": [
      "sayı sıfır\n"
     ]
    }
   ],
   "source": [
    "num = float(input(\"enter a number\"))\n",
    "if num>0:\n",
    "    print (\"pozitif sayı\")\n",
    "elif num==0:\n",
    "    print(\"sayı sıfır\")\n",
    "else:\n",
    "    print(\"netafif sayı\")"
   ]
  },
  {
   "cell_type": "code",
   "execution_count": 7,
   "metadata": {},
   "outputs": [
    {
     "name": "stdout",
     "output_type": "stream",
     "text": [
      "please enter correct data\n"
     ]
    }
   ],
   "source": [
    "age = input(\"enter ypur age:\")\n",
    "while not age.isnumeric():\n",
    "    print(\"please enter correct data\")\n",
    "    age = input(\"enter ypur age:\")\n",
    "    print(f\"your age is{age}\")\n"
   ]
  }
 ],
 "metadata": {
  "kernelspec": {
   "display_name": "Python 3",
   "language": "python",
   "name": "python3"
  },
  "language_info": {
   "codemirror_mode": {
    "name": "ipython",
    "version": 3
   },
   "file_extension": ".py",
   "mimetype": "text/x-python",
   "name": "python",
   "nbconvert_exporter": "python",
   "pygments_lexer": "ipython3",
   "version": "3.11.0"
  },
  "orig_nbformat": 4,
  "vscode": {
   "interpreter": {
    "hash": "6bb0eb8d29a3b1f7f8bf4e18ccd882616e57211f84ecbded1e20580bc1388369"
   }
  }
 },
 "nbformat": 4,
 "nbformat_minor": 2
}
